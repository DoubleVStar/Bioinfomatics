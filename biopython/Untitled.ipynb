{
 "cells": [
  {
   "cell_type": "code",
   "execution_count": 26,
   "id": "6fc6aaf1-3a37-489f-964c-3e2ccc5f4882",
   "metadata": {},
   "outputs": [],
   "source": [
    "import Bio\n",
    "from Bio.Blast import NCBIWWW\n",
    "from Bio.Seq import Seq\n",
    "import numpy as np"
   ]
  },
  {
   "cell_type": "code",
   "execution_count": 16,
   "id": "9db929fd-10f5-47ea-90e8-b13d901fc2c3",
   "metadata": {},
   "outputs": [
    {
     "ename": "KeyboardInterrupt",
     "evalue": "",
     "output_type": "error",
     "traceback": [
      "\u001b[1;31m---------------------------------------------------------------------------\u001b[0m",
      "\u001b[1;31mKeyboardInterrupt\u001b[0m                         Traceback (most recent call last)",
      "Cell \u001b[1;32mIn[16], line 2\u001b[0m\n\u001b[0;32m      1\u001b[0m f_string \u001b[38;5;241m=\u001b[39m [\u001b[38;5;124m\"\u001b[39m\u001b[38;5;124mTGGGCCTCATATTTATCCTATATACCATGTTCGTATGGTGGCGCGATGTTCTACGTGAATCCACGTTCGAAGGACATCATACCAAAGTCGTACAATTAGGACCTCGATATGGTTTTATTCTGTTTATCGTATCGGAGGTTATGTTCTTTTTTGCTCTTTTTCGGGCTTCTTCTCATTCTTCTTTGGCACCTACGGTAGAG\u001b[39m\u001b[38;5;124m\"\u001b[39m]\n\u001b[1;32m----> 2\u001b[0m result_handle \u001b[38;5;241m=\u001b[39m \u001b[43mNCBIWWW\u001b[49m\u001b[38;5;241;43m.\u001b[39;49m\u001b[43mqblast\u001b[49m\u001b[43m(\u001b[49m\u001b[38;5;124;43m'\u001b[39;49m\u001b[38;5;124;43mblastn\u001b[39;49m\u001b[38;5;124;43m'\u001b[39;49m\u001b[43m,\u001b[49m\u001b[38;5;124;43m'\u001b[39;49m\u001b[38;5;124;43mnt\u001b[39;49m\u001b[38;5;124;43m'\u001b[39;49m\u001b[43m,\u001b[49m\u001b[43mf_string\u001b[49m\u001b[43m)\u001b[49m\n\u001b[0;32m      3\u001b[0m blast_record \u001b[38;5;241m=\u001b[39m NCBIXML\u001b[38;5;241m.\u001b[39mread(result_handle)\n\u001b[0;32m      5\u001b[0m \u001b[38;5;28;01mfor\u001b[39;00m alignment \u001b[38;5;129;01min\u001b[39;00m blast_record\u001b[38;5;241m.\u001b[39malignments:\n",
      "File \u001b[1;32mE:\\anaconda3\\envs\\biokevin\\lib\\site-packages\\Bio\\Blast\\NCBIWWW.py:268\u001b[0m, in \u001b[0;36mqblast\u001b[1;34m(program, database, sequence, url_base, auto_format, composition_based_statistics, db_genetic_code, endpoints, entrez_query, expect, filter, gapcosts, genetic_code, hitlist_size, i_thresh, layout, lcase_mask, matrix_name, nucl_penalty, nucl_reward, other_advanced, perc_ident, phi_pattern, query_file, query_believe_defline, query_from, query_to, searchsp_eff, service, threshold, ungapped_alignment, word_size, short_query, alignments, alignment_view, descriptions, entrez_links_new_window, expect_low, expect_high, format_entrez_query, format_object, format_type, ncbi_gi, results_file, show_overview, megablast, template_type, template_length, username, password)\u001b[0m\n\u001b[0;32m    266\u001b[0m wait \u001b[38;5;241m=\u001b[39m qblast\u001b[38;5;241m.\u001b[39m_previous \u001b[38;5;241m+\u001b[39m delay \u001b[38;5;241m-\u001b[39m current\n\u001b[0;32m    267\u001b[0m \u001b[38;5;28;01mif\u001b[39;00m wait \u001b[38;5;241m>\u001b[39m \u001b[38;5;241m0\u001b[39m:\n\u001b[1;32m--> 268\u001b[0m     \u001b[43mtime\u001b[49m\u001b[38;5;241;43m.\u001b[39;49m\u001b[43msleep\u001b[49m\u001b[43m(\u001b[49m\u001b[43mwait\u001b[49m\u001b[43m)\u001b[49m\n\u001b[0;32m    269\u001b[0m     qblast\u001b[38;5;241m.\u001b[39m_previous \u001b[38;5;241m=\u001b[39m current \u001b[38;5;241m+\u001b[39m wait\n\u001b[0;32m    270\u001b[0m \u001b[38;5;28;01melse\u001b[39;00m:\n",
      "\u001b[1;31mKeyboardInterrupt\u001b[0m: "
     ]
    }
   ],
   "source": [
    "f_string = [\"TGGGCCTCATATTTATCCTATATACCATGTTCGTATGGTGGCGCGATGTTCTACGTGAATCCACGTTCGAAGGACATCATACCAAAGTCGTACAATTAGGACCTCGATATGGTTTTATTCTGTTTATCGTATCGGAGGTTATGTTCTTTTTTGCTCTTTTTCGGGCTTCTTCTCATTCTTCTTTGGCACCTACGGTAGAG\"]\n",
    "result_handle = NCBIWWW.qblast('blastn','nt',f_string)\n",
    "blast_record = NCBIXML.read(result_handle)\n",
    "\n",
    "for alignment in blast_record.alignments:\n",
    "    for hsp in alignment.hsps:\n",
    "        print(\"Title:\", alignment.title)\n",
    "        print(\"E-value:\", hsp.expect)\n",
    "\n",
    "#help(NCBIWWW.qblast)"
   ]
  },
  {
   "cell_type": "code",
   "execution_count": 17,
   "id": "df914a22-4dce-4d70-a8f1-28e8b6e8ce19",
   "metadata": {},
   "outputs": [
    {
     "name": "stdout",
     "output_type": "stream",
     "text": [
      "<_io.StringIO object at 0x0000022DAB953490>\n",
      "Title: gi|1783584753|gb|MN651324.1| Nicotiana tabacum strain zhongyan90 cytoplasmic male sterility(CMS) line cultivar MSzhongyan90 mitochondrion, complete genome\n",
      "E-value: 2.32177e-95\n",
      "Title: gi|1783584659|gb|MN651323.1| Nicotiana tabacum strain zhongyan90 maintainer line cultivar zhongyan90 mitochondrion, complete genome\n",
      "E-value: 2.32177e-95\n",
      "Title: gi|1783584536|gb|MN651322.1| Nicotiana tabacum strain yunyan85 cytoplasmic male sterility(CMS) line cultivar MSyunyan85 mitochondrion, complete genome\n",
      "E-value: 2.32177e-95\n",
      "Title: gi|1783584454|gb|MN651321.1| Nicotiana tabacum cultivar Yunyan85 mitochondrion, complete genome\n",
      "E-value: 2.32177e-95\n",
      "Title: gi|1741436215|gb|MH168703.1| Nicotiana tabacum/Hyoscyamus niger cybrid isolate rcMv-1-1g_c2 mitochondrion, complete sequence\n",
      "E-value: 2.32177e-95\n",
      "Title: gi|1314948859|ref|NC_036467.1| Nicotiana attenuata mitochondrion, complete genome >gi|1241191387|gb|MF579563.1| Nicotiana attenuata mitochondrion, complete genome\n",
      "E-value: 2.32177e-95\n",
      "Title: gi|2566845550|gb|OR187867.1| Solanum aethiopicum cultivar Aculeatum CGN23319 mitochondrion, complete genome\n",
      "E-value: 2.32177e-95\n",
      "Title: gi|2566845327|gb|OR187866.1| Solanum melongena cultivar CMS line EP28A mitochondrion, complete genome\n",
      "E-value: 2.32177e-95\n",
      "Title: gi|2566845128|gb|OR187865.1| Solanum melongena cultivar EP28 mitochondrion, complete genome\n",
      "E-value: 2.32177e-95\n",
      "Title: gi|2566845128|gb|OR187865.1| Solanum melongena cultivar EP28 mitochondrion, complete genome\n",
      "E-value: 2.32177e-95\n",
      "Title: gi|1016470551|ref|NC_029805.1| Nicotiana sylvestris cultivar TW 137 mitochondrion, complete genome >gi|1008910429|gb|KT997964.1| Nicotiana sylvestris cultivar TW 137 mitochondrion, complete genome\n",
      "E-value: 2.32177e-95\n",
      "Title: gi|927029471|gb|KR780036.1| Nicotiana tabacum cultivar zhongyan 100 mitochondrion, complete genome\n",
      "E-value: 2.32177e-95\n",
      "Title: gi|916446276|gb|KT179379.1| Evolvulus nuttallianus voucher Aust 160 cytochrome c oxidase subunit 3 (coxIII) gene, complete cds; mitochondrial\n",
      "E-value: 2.32177e-95\n",
      "Title: gi|756762107|gb|KM207679.1| Nicotiana tabacum/Hyoscyamus niger cybrid clone contig2 mitochondrion, complete sequence\n",
      "E-value: 2.32177e-95\n",
      "Title: gi|698585445|ref|XM_009780350.1| PREDICTED: Nicotiana sylvestris cytochrome c oxidase subunit 3 (LOC104227970), mRNA\n",
      "E-value: 2.32177e-95\n",
      "Title: gi|2183119123|gb|MZ240729.1| Evolvulus alsinoides voucher FJ05952020121606 mitochondrion, complete genome\n",
      "E-value: 2.32177e-95\n",
      "Title: gi|1883212036|gb|MT122988.1| Solanum aethiopicum isolate NN3 mitochondrion, complete genome\n",
      "E-value: 2.32177e-95\n",
      "Title: gi|1883211983|gb|MT122986.1| Solanum melongena isolate NN5 chromosome 1, complete genome\n",
      "E-value: 2.32177e-95\n",
      "Title: gi|1883211930|gb|MT122984.1| Solanum melongena isolate NN10 chromosome 1, complete genome\n",
      "E-value: 2.32177e-95\n",
      "Title: gi|1883211881|gb|MT122982.1| Solanum anguivi isolate NN13 chromosome 1, complete genome\n",
      "E-value: 2.32177e-95\n",
      "Title: gi|1883211832|gb|MT122980.1| Solanum anguivi isolate NN14 chromosome 1, complete genome\n",
      "E-value: 2.32177e-95\n",
      "Title: gi|1883211730|gb|MT122977.1| Solanum aethiopicum isolate NN1 mitochondrion, complete genome\n",
      "E-value: 2.32177e-95\n",
      "Title: gi|1883211677|gb|MT122975.1| Solanum melongena isolate NN18 chromosome 1, complete genome\n",
      "E-value: 2.32177e-95\n",
      "Title: gi|1883211652|gb|MT122974.1| Solanum aethiopicum isolate NN2 chromosome 2, complete genome\n",
      "E-value: 2.32177e-95\n",
      "Title: gi|1883211572|gb|MT122970.1| Solanum macrocarpon isolate NN6 chromosome 1, complete genome\n",
      "E-value: 2.32177e-95\n",
      "Title: gi|1883211523|gb|MT122969.1| Solanum aethiopicum isolate NN17 mitochondrion, complete genome\n",
      "E-value: 2.32177e-95\n",
      "Title: gi|1883211471|gb|MT122967.1| Solanum melongena isolate NN7 chromosome 1, complete genome\n",
      "E-value: 2.32177e-95\n",
      "Title: gi|1904806381|ref|NC_050335.1| Solanum aethiopicum isolate NN4 mitochondrion, complete genome >gi|1883211427|gb|MT122966.1| Solanum aethiopicum isolate NN4 mitochondrion, complete genome\n",
      "E-value: 2.32177e-95\n",
      "Title: gi|1883211333|gb|MT122963.1| Solanum melongena isolate NN19 mitochondrion, complete genome\n",
      "E-value: 2.32177e-95\n",
      "Title: gi|1904806331|ref|NC_050334.1| Solanum melongena isolate NN20 mitochondrion, complete genome >gi|1883211284|gb|MT122962.1| Solanum melongena isolate NN20 mitochondrion, complete genome\n",
      "E-value: 2.32177e-95\n",
      "Title: gi|1883211235|gb|MT122960.1| Solanum melongena isolate NN8 chromosome 1, complete genome\n",
      "E-value: 2.32177e-95\n",
      "Title: gi|1883211137|gb|MT122956.1| Solanum melongena isolate NN11 chromosome 1, complete genome\n",
      "E-value: 2.32177e-95\n",
      "Title: gi|1883211112|gb|MT122955.1| Solanum aethiopicum isolate NN16 chromosome 2, complete genome\n",
      "E-value: 2.32177e-95\n",
      "Title: gi|57013877|ref|NC_006581.1| Nicotiana tabacum mitochondrion, complete genome >gi|56806513|dbj|BA000042.1| Nicotiana tabacum mitochondrial DNA, complete genome\n",
      "E-value: 2.32177e-95\n",
      "Title: gi|2390883658|emb|OX381602.1| Solanum dulcamara genome assembly, organelle: mitochondrion\n",
      "E-value: 9.87243e-94\n",
      "Title: gi|2386960691|ref|NC_068714.1| Ipomoea batatas mitochondrion, complete genome >gi|2325504720|gb|OM808941.1| Ipomoea batatas mitochondrion, complete genome\n",
      "E-value: 9.87243e-94\n",
      "Title: gi|2227197346|gb|MZ030741.1| Solanum tuberosum cultivar Spunta chromosome 2 mitochondrion, complete sequence\n",
      "E-value: 9.87243e-94\n",
      "Title: gi|2227196870|gb|MZ030738.1| Solanum tuberosum cultivar Atlantic chromosome 2 mitochondrion, complete sequence\n",
      "E-value: 9.87243e-94\n",
      "Title: gi|2227196472|gb|MZ030735.1| Solanum tuberosum cultivar Altus chromosome 2 mitochondrion, complete sequence\n",
      "E-value: 9.87243e-94\n",
      "Title: gi|2227196165|gb|MZ030733.1| Solanum tuberosum cultivar Castle Russet chromosome 3 mitochondrion, complete sequence\n",
      "E-value: 9.87243e-94\n",
      "Title: gi|2227195850|gb|MZ030729.1| Solanum tuberosum cultivar Colomba chromosome 2 mitochondrion, complete sequence\n",
      "E-value: 9.87243e-94\n",
      "Title: gi|2227195572|gb|MZ030726.1| Solanum tuberosum cultivar Avenger chromosome 2 mitochondrion, complete sequence\n",
      "E-value: 9.87243e-94\n",
      "Title: gi|2206415860|tpg|BK059242.1| TPA_asm: Ipomoea triloba chromosome 1 mitochondrion, complete sequence\n",
      "E-value: 9.87243e-94\n",
      "Title: gi|2206415820|tpg|BK059239.1| TPA_asm: Ipomoea batatas mitochondrion, complete genome\n",
      "E-value: 9.87243e-94\n",
      "Title: gi|2206415704|tpg|BK059236.1| TPA_asm: Convolvulus arvensis mitochondrion, complete genome\n",
      "E-value: 9.87243e-94\n",
      "Title: gi|2206415684|tpg|BK059241.1| TPA_asm: Ipomoea trifida chromosome 2 mitochondrion, complete sequence\n",
      "E-value: 9.87243e-94\n",
      "Title: gi|2183119391|gb|MZ240738.1| Ipomoea pes-caprae voucher FJ05912020120103 chromosome 3 mitochondrion, complete sequence\n",
      "E-value: 9.87243e-94\n",
      "Title: gi|2183119330|gb|MZ240734.1| Dichondra micrantha voucher FJ05912020110605 chromosome 2 mitochondrion, complete sequence\n",
      "E-value: 9.87243e-94\n",
      "Title: gi|2183119273|gb|MZ240732.1| Ipomoea quamoclit voucher FJ05912020120707 mitochondrion, complete genome\n",
      "E-value: 9.87243e-94\n",
      "Title: gi|2183119224|gb|MZ240731.1| Merremia hederacea voucher FJ05912020110908 mitochondrion, complete genome\n",
      "E-value: 9.87243e-94\n",
      "Title: gi|2183119170|gb|MZ240730.1| Ipomoea aquatica voucher FJ05912020111505 mitochondrion, complete genome\n",
      "E-value: 9.87243e-94\n"
     ]
    }
   ],
   "source": [
    "print(result_handle)\n",
    "blast_record = NCBIXML.read(result_handle)\n",
    "\n",
    "for alignment in blast_record.alignments:\n",
    "    for hsp in alignment.hsps:\n",
    "        print(\"Title:\", alignment.title)\n",
    "        print(\"E-value:\", hsp.expect)"
   ]
  },
  {
   "cell_type": "code",
   "execution_count": 25,
   "id": "f190746b-47a2-4470-876d-0d60e2a620d9",
   "metadata": {},
   "outputs": [
    {
     "name": "stdout",
     "output_type": "stream",
     "text": [
      "WASYLSYIPCSYGGAMFYVNPRSKDIIPKSYN*DLDMVLFCLSYRRLCSFLLFFGLLLILLWHLR*\n"
     ]
    },
    {
     "name": "stderr",
     "output_type": "stream",
     "text": [
      "E:\\anaconda3\\envs\\biokevin\\lib\\site-packages\\Bio\\Seq.py:2804: BiopythonWarning: Partial codon, len(sequence) not a multiple of three. Explicitly trim the sequence or add trailing N before translation. This may become an error in future.\n",
      "  warnings.warn(\n"
     ]
    }
   ],
   "source": [
    "s = Seq(\"TGGGCCTCATATTTATCCTATATACCATGTTCGTATGGTGGCGCGATGTTCTACGTGAATCCACGTTCGAAGGACATCATACCAAAGTCGTACAATTAGGACCTCGATATGGTTTTATTCTGTTTATCGTATCGGAGGTTATGTTCTTTTTTGCTCTTTTTCGGGCTTCTTCTCATTCTTCTTTGGCACCTACGGTAGAG\")\n",
    "print(s.translate())"
   ]
  }
 ],
 "metadata": {
  "kernelspec": {
   "display_name": "Python 3 (ipykernel)",
   "language": "python",
   "name": "python3"
  },
  "language_info": {
   "codemirror_mode": {
    "name": "ipython",
    "version": 3
   },
   "file_extension": ".py",
   "mimetype": "text/x-python",
   "name": "python",
   "nbconvert_exporter": "python",
   "pygments_lexer": "ipython3",
   "version": "3.10.12"
  }
 },
 "nbformat": 4,
 "nbformat_minor": 5
}
